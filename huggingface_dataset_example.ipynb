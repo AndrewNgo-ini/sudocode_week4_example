{
 "cells": [
  {
   "cell_type": "code",
   "execution_count": 3,
   "metadata": {},
   "outputs": [
    {
     "data": {
      "application/vnd.jupyter.widget-view+json": {
       "model_id": "3a2b2fa68a104b4eb6548a14fa12af34",
       "version_major": 2,
       "version_minor": 0
      },
      "text/plain": [
       "Generating train split: 0 examples [00:00, ? examples/s]"
      ]
     },
     "metadata": {},
     "output_type": "display_data"
    },
    {
     "data": {
      "application/vnd.jupyter.widget-view+json": {
       "model_id": "7e623e1a8ec0458d8ce280a170bcf577",
       "version_major": 2,
       "version_minor": 0
      },
      "text/plain": [
       "Map (num_proc=8):   0%|          | 0/6652067 [00:00<?, ? examples/s]"
      ]
     },
     "metadata": {},
     "output_type": "display_data"
    },
    {
     "name": "stdout",
     "output_type": "stream",
     "text": [
      "Dataset({\n",
      "    features: ['text', 'processed_text'],\n",
      "    num_rows: 6652067\n",
      "})\n"
     ]
    }
   ],
   "source": [
    "from datasets import load_dataset\n",
    "\n",
    "# Load the text file into a dataset\n",
    "dataset = load_dataset('text', data_files={'train': 'clean_viwik18.txt'}, split='train')\n",
    "\n",
    "# Function to process each batch of lines\n",
    "def process_line(batch):\n",
    "    # Strip extra spaces for each line in the batch\n",
    "    # TODO: this is a example, you can do anything like tokenizer to the sentence\n",
    "    processed_lines = [line.strip() for line in batch['text']]\n",
    "    return {'processed_text': processed_lines}\n",
    "\n",
    "# Apply parallel processing with `num_proc` and `batched=True`\n",
    "# Try comment the batch, num_proc to see the differences\n",
    "processed_dataset = dataset.map(process_line, batched=True, num_proc=8)  # Adjust num_proc based on your CPU\n",
    "\n",
    "# Inspect the processed dataset\n",
    "print(processed_dataset)\n"
   ]
  },
  {
   "cell_type": "code",
   "execution_count": 4,
   "metadata": {},
   "outputs": [
    {
     "data": {
      "text/plain": [
       "{'text': 'trang chính', 'processed_text': 'trang chính'}"
      ]
     },
     "execution_count": 4,
     "metadata": {},
     "output_type": "execute_result"
    }
   ],
   "source": [
    "processed_dataset[0]"
   ]
  }
 ],
 "metadata": {
  "kernelspec": {
   "display_name": "general",
   "language": "python",
   "name": "general"
  },
  "language_info": {
   "codemirror_mode": {
    "name": "ipython",
    "version": 3
   },
   "file_extension": ".py",
   "mimetype": "text/x-python",
   "name": "python",
   "nbconvert_exporter": "python",
   "pygments_lexer": "ipython3",
   "version": "3.11.9"
  }
 },
 "nbformat": 4,
 "nbformat_minor": 4
}
